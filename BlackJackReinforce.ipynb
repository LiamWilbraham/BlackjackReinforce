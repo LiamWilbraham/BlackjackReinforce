{
 "cells": [
  {
   "cell_type": "code",
   "execution_count": 1,
   "metadata": {
    "scrolled": true
   },
   "outputs": [],
   "source": [
    "import random\n",
    "import numpy as np\n",
    "from lib import Game"
   ]
  },
  {
   "cell_type": "code",
   "execution_count": null,
   "metadata": {
    "scrolled": true
   },
   "outputs": [
    {
     "name": "stdout",
     "output_type": "stream",
     "text": [
      "games won by player 1: 20589 (41.2%)\n",
      "games won by player 1: 20473 (40.9%)\n",
      "games won by player 1: 20395 (40.8%)\n",
      "games won by player 1: 20246 (40.5%)\n",
      "games won by player 1: 20374 (40.7%)\n",
      "games won by player 1: 20552 (41.1%)\n",
      "games won by player 1: 20682 (41.4%)\n",
      "games won by player 1: 20264 (40.5%)\n"
     ]
    }
   ],
   "source": [
    "def main(num_games, verbose=True):\n",
    "    \n",
    "    reward = 1\n",
    "    for i in range(num_games):\n",
    "        \n",
    "        if verbose:\n",
    "            print('\\nGAME', i+1, '\\n------------------------------')\n",
    "            \n",
    "        game = Game({'Player1' : True}, verbose)\n",
    "        game.play() \n",
    "        \n",
    "        if 'Player1' in game.winner:\n",
    "            reward += 1\n",
    "\n",
    "    print('games won by player 1: {} ({:.3}%)'.format(reward, (reward/num_games)*100))\n",
    "    \n",
    "for i in range(10):\n",
    "    main(50000, verbose=False)"
   ]
  },
  {
   "cell_type": "markdown",
   "metadata": {},
   "source": [
    "#### edge cases to cover\n",
    "\n",
    "* when both a player and the dealer have blackjack.\n",
    "\n",
    "#### notes\n",
    "\n",
    "* choosing randomly whether to hit or stick, player 1 wins 31-32% of the time (based on 50,000 games played).\n",
    "* choosing to hit when score is < 17, player 1 wins 40-41% of the time (based on 50,000 games played).\n",
    "* choosing to hit when score is < 16, player 1 wins 41-42% of the time (based on 50,000 games played). A bit surprising. I thought that hitting when score is < 17 is supposed to be optimal? "
   ]
  },
  {
   "cell_type": "code",
   "execution_count": null,
   "metadata": {},
   "outputs": [],
   "source": []
  }
 ],
 "metadata": {
  "kernelspec": {
   "display_name": "Python 3",
   "language": "python",
   "name": "python3"
  },
  "language_info": {
   "codemirror_mode": {
    "name": "ipython",
    "version": 3
   },
   "file_extension": ".py",
   "mimetype": "text/x-python",
   "name": "python",
   "nbconvert_exporter": "python",
   "pygments_lexer": "ipython3",
   "version": "3.6.6"
  }
 },
 "nbformat": 4,
 "nbformat_minor": 2
}
