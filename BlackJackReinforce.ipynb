{
 "cells": [
  {
   "cell_type": "code",
   "execution_count": 1,
   "metadata": {},
   "outputs": [],
   "source": [
    "from random import sample\n",
    "import numpy as np"
   ]
  },
  {
   "cell_type": "code",
   "execution_count": null,
   "metadata": {},
   "outputs": [],
   "source": []
  },
  {
   "cell_type": "code",
   "execution_count": 2,
   "metadata": {},
   "outputs": [],
   "source": [
    "class Player:\n",
    "    def __init__(self, player_name):\n",
    "        \n",
    "        '''Creates a Blackjack Player (also used for the dealer)\n",
    "           The way the deck is passed is not ideal since it does not update\n",
    "        '''\n",
    "        \n",
    "        self.player_name = player_name\n",
    "        self.cards = {'2':2, '3':3, '4':4, '5':5, '6':6, '7':7, '8':8, '9':9, '10':10, 'J':10, 'Q':10, 'K':10, 'A':11}\n",
    "        self.hand = {}\n",
    "            \n",
    "    def deal(self, deck):\n",
    "        self.hand = deck.deal(2)\n",
    " \n",
    "    def hit(self, deck):\n",
    "        self.hand.append(deck.deal(1)[0])\n",
    "    \n",
    "    def stick(self):\n",
    "        pass\n",
    "    \n",
    "    def bust_check(self):\n",
    "        score = np.sum([self.cards[i] for i in self.hand])\n",
    "        if score > 21:\n",
    "            print(self.player_name, 'is bust!')\n",
    "        elif score == 21:\n",
    "            print(self.player_name, 'has blackjack!')\n",
    "        else:\n",
    "            print(self.player_name, 'is doing alright...')\n",
    "            \n",
    "class Deck:\n",
    "    def __init__(self):\n",
    "        suit = {'2':2, '3':3, '4':4, '5':5, '6':6, '7':7, '8':8, '9':9, '10':10, 'J':10, 'Q':10, 'K':10, 'A':11} \n",
    "        self.cards = sample(list(suit.keys())*4, 52)\n",
    "    \n",
    "    def deal(self,n):\n",
    "        # return the first n cards in the deck\n",
    "        cards = []\n",
    "        for i in range(n):\n",
    "            cards.append(self.cards[0])\n",
    "            self.cards.pop(0)\n",
    "        return cards\n",
    "        "
   ]
  },
  {
   "cell_type": "code",
   "execution_count": 3,
   "metadata": {},
   "outputs": [],
   "source": [
    "dealer = Player('dealer')\n",
    "player1 = Player('player1')\n",
    "deck = Deck()"
   ]
  },
  {
   "cell_type": "code",
   "execution_count": 4,
   "metadata": {},
   "outputs": [
    {
     "name": "stdout",
     "output_type": "stream",
     "text": [
      "52\n",
      "['2', '10']\n",
      "('player1', 'is doing alright...')\n",
      "50\n",
      "49\n",
      "['2', '10', 'A']\n",
      "('player1', 'is bust!')\n"
     ]
    }
   ],
   "source": [
    "print(len(deck.cards))\n",
    "player1.deal(deck)\n",
    "print(player1.hand)\n",
    "player1.bust_check()\n",
    "print(len(deck.cards))\n",
    "player1.hit(deck)\n",
    "print(len(deck.cards))\n",
    "print(player1.hand)\n",
    "player1.bust_check()"
   ]
  },
  {
   "cell_type": "code",
   "execution_count": null,
   "metadata": {},
   "outputs": [],
   "source": []
  },
  {
   "cell_type": "code",
   "execution_count": null,
   "metadata": {},
   "outputs": [],
   "source": []
  }
 ],
 "metadata": {
  "kernelspec": {
   "display_name": "Python 2",
   "language": "python",
   "name": "python2"
  },
  "language_info": {
   "codemirror_mode": {
    "name": "ipython",
    "version": 2
   },
   "file_extension": ".py",
   "mimetype": "text/x-python",
   "name": "python",
   "nbconvert_exporter": "python",
   "pygments_lexer": "ipython2",
   "version": "2.7.14"
  }
 },
 "nbformat": 4,
 "nbformat_minor": 2
}
