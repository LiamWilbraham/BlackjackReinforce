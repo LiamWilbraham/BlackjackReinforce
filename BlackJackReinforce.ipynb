{
 "cells": [
  {
   "cell_type": "code",
   "execution_count": 10,
   "metadata": {
    "collapsed": true
   },
   "outputs": [],
   "source": [
    "from random import sample\n",
    "import numpy as np"
   ]
  },
  {
   "cell_type": "code",
   "execution_count": 11,
   "metadata": {},
   "outputs": [],
   "source": [
    "cards = {'2':2, '3':3, '4':4, '5':5, '6':6, '7':7, '8':8, '9':9, '10':10, 'J':10, 'Q':10, 'K':10, 'A':11}    \n",
    "deck = sample(list(cards.keys())*4, 52)"
   ]
  },
  {
   "cell_type": "code",
   "execution_count": 18,
   "metadata": {},
   "outputs": [],
   "source": [
    "class Player:\n",
    "    def __init__(self, player_name, deck=deck, cards=cards):\n",
    "        \n",
    "        '''Creates a Blackjack Player (also used for the dealer)\n",
    "           The way the deck is passed is not ideal since it does not update\n",
    "        '''\n",
    "        \n",
    "        self.player_name = player_name\n",
    "        self.deck = deck\n",
    "        self.cards = cards\n",
    "        self.hand = {}\n",
    "            \n",
    "    def deal(self):\n",
    "        self.hand = self.deck[-2:]\n",
    "        self.deck = self.deck[:-2]\n",
    "    \n",
    "    def hit(self):\n",
    "        self.hand.append(deck[-1])\n",
    "        self.deck = self.deck[:-1]\n",
    "    \n",
    "    def stick(self):\n",
    "        pass\n",
    "    \n",
    "    def bust_check(self):\n",
    "        score = np.sum([self.cards[i] for i in self.hand])\n",
    "        if score > 21:\n",
    "            print(self.player_name, 'is bust!')\n",
    "        elif score == 21:\n",
    "            print(self.player_name, 'has blackjack!')\n",
    "        else:\n",
    "            print(self.player_name, 'is doing alright...')"
   ]
  },
  {
   "cell_type": "code",
   "execution_count": 19,
   "metadata": {},
   "outputs": [],
   "source": [
    "dealer = Player('dealer')\n",
    "player1 = Player('player1')"
   ]
  },
  {
   "cell_type": "code",
   "execution_count": 20,
   "metadata": {},
   "outputs": [
    {
     "name": "stdout",
     "output_type": "stream",
     "text": [
      "52\n",
      "['4', '9']\n",
      "player1 is doing alright...\n",
      "52\n",
      "52\n",
      "['4', '9', '9']\n",
      "player1 is bust!\n"
     ]
    }
   ],
   "source": [
    "print(len(deck))\n",
    "player1.deal()\n",
    "print(player1.hand)\n",
    "player1.bust_check()\n",
    "print(len(deck))\n",
    "player1.hit()\n",
    "print(len(deck))\n",
    "print(player1.hand)\n",
    "player1.bust_check()"
   ]
  },
  {
   "cell_type": "code",
   "execution_count": null,
   "metadata": {
    "collapsed": true
   },
   "outputs": [],
   "source": []
  },
  {
   "cell_type": "code",
   "execution_count": null,
   "metadata": {
    "collapsed": true
   },
   "outputs": [],
   "source": []
  }
 ],
 "metadata": {
  "kernelspec": {
   "display_name": "Python 3",
   "language": "python",
   "name": "python3"
  },
  "language_info": {
   "codemirror_mode": {
    "name": "ipython",
    "version": 3
   },
   "file_extension": ".py",
   "mimetype": "text/x-python",
   "name": "python",
   "nbconvert_exporter": "python",
   "pygments_lexer": "ipython3",
   "version": "3.6.3"
  }
 },
 "nbformat": 4,
 "nbformat_minor": 2
}
