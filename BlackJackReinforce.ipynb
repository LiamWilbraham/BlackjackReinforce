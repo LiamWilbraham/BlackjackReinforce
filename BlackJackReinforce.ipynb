{
 "cells": [
  {
   "cell_type": "code",
   "execution_count": 1,
   "metadata": {
    "collapsed": true,
    "scrolled": true
   },
   "outputs": [],
   "source": [
    "import random\n",
    "import numpy as np\n",
    "from lib import Game"
   ]
  },
  {
   "cell_type": "code",
   "execution_count": 2,
   "metadata": {
    "scrolled": true
   },
   "outputs": [
    {
     "name": "stdout",
     "output_type": "stream",
     "text": [
      "hands won by player 1: 50460 (41.8%)\n",
      "hands won by player 1: 50422 (41.6%)\n",
      "hands won by player 1: 50478 (41.5%)\n",
      "hands won by player 1: 50484 (41.8%)\n",
      "hands won by player 1: 50483 (41.8%)\n",
      "hands won by player 1: 50414 (41.7%)\n",
      "hands won by player 1: 50423 (41.9%)\n",
      "hands won by player 1: 50460 (41.2%)\n",
      "hands won by player 1: 50439 (41.5%)\n",
      "hands won by player 1: 50449 (41.3%)\n"
     ]
    }
   ],
   "source": [
    "def main(num_games, verbose=True):\n",
    "    \n",
    "    game = Game({'Player1' : True}, verbose)    \n",
    "    for i in range(num_games):\n",
    "        \n",
    "        if verbose:\n",
    "            print('\\nGAME', i+1, '\\n------------------------------')\n",
    "        game.play() \n",
    "\n",
    "    print('hands won by player 1: {} ({:.3}%)'.format(game.players[0].n_hands_played, game.players[0].win_rate))\n",
    "    \n",
    "for i in range(10):\n",
    "    main(50000, verbose=False)"
   ]
  },
  {
   "cell_type": "markdown",
   "metadata": {},
   "source": [
    "#### edge cases to cover\n",
    "\n",
    "* when both a player and the dealer have blackjack.\n",
    "\n",
    "#### notes\n",
    "\n",
    "* choosing randomly whether to hit or stick, player 1 wins 31-32% of the time (based on 50,000 games played).\n",
    "* choosing to hit when score is < 17, player 1 wins 40-41% of the time (based on 50,000 games played).\n",
    "* choosing to hit when score is < 16, player 1 wins 41-42% of the time (based on 50,000 games played). A bit surprising. I thought that hitting when score is < 17 is supposed to be optimal? "
   ]
  },
  {
   "cell_type": "code",
   "execution_count": null,
   "metadata": {
    "collapsed": true
   },
   "outputs": [],
   "source": []
  }
 ],
 "metadata": {
  "kernelspec": {
   "display_name": "Python 3",
   "language": "python",
   "name": "python3"
  },
  "language_info": {
   "codemirror_mode": {
    "name": "ipython",
    "version": 3
   },
   "file_extension": ".py",
   "mimetype": "text/x-python",
   "name": "python",
   "nbconvert_exporter": "python",
   "pygments_lexer": "ipython3",
   "version": "3.6.3"
  }
 },
 "nbformat": 4,
 "nbformat_minor": 2
}
